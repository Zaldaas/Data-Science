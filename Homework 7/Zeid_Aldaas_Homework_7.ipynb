{
  "nbformat": 4,
  "nbformat_minor": 0,
  "metadata": {
    "colab": {
      "provenance": []
    },
    "kernelspec": {
      "name": "python3",
      "display_name": "Python 3"
    },
    "language_info": {
      "name": "python"
    },
    "widgets": {
      "application/vnd.jupyter.widget-state+json": {
        "b5b5272f71cf46ee9b8625117252a4ee": {
          "model_module": "@jupyter-widgets/controls",
          "model_name": "HBoxModel",
          "model_module_version": "1.5.0",
          "state": {
            "_dom_classes": [],
            "_model_module": "@jupyter-widgets/controls",
            "_model_module_version": "1.5.0",
            "_model_name": "HBoxModel",
            "_view_count": null,
            "_view_module": "@jupyter-widgets/controls",
            "_view_module_version": "1.5.0",
            "_view_name": "HBoxView",
            "box_style": "",
            "children": [
              "IPY_MODEL_56951379381642559f933f6a842530cb",
              "IPY_MODEL_629a71c3d0c145ca8c7d3d7ea2ae928a"
            ],
            "layout": "IPY_MODEL_ed074942e972488090fbd6b1d9128e72"
          }
        },
        "56951379381642559f933f6a842530cb": {
          "model_module": "@jupyter-widgets/controls",
          "model_name": "ButtonModel",
          "model_module_version": "1.5.0",
          "state": {
            "_dom_classes": [],
            "_model_module": "@jupyter-widgets/controls",
            "_model_module_version": "1.5.0",
            "_model_name": "ButtonModel",
            "_view_count": null,
            "_view_module": "@jupyter-widgets/controls",
            "_view_module_version": "1.5.0",
            "_view_name": "ButtonView",
            "button_style": "",
            "description": "⬇️ Download",
            "disabled": false,
            "icon": "",
            "layout": "IPY_MODEL_7515829c6b754542b05e470697263c51",
            "style": "IPY_MODEL_0d0772cbad2b4f5a994b4a17ae32e39b",
            "tooltip": ""
          }
        },
        "629a71c3d0c145ca8c7d3d7ea2ae928a": {
          "model_module": "@jupyter-widgets/controls",
          "model_name": "LabelModel",
          "model_module_version": "1.5.0",
          "state": {
            "_dom_classes": [],
            "_model_module": "@jupyter-widgets/controls",
            "_model_module_version": "1.5.0",
            "_model_name": "LabelModel",
            "_view_count": null,
            "_view_module": "@jupyter-widgets/controls",
            "_view_module_version": "1.5.0",
            "_view_name": "LabelView",
            "description": "",
            "description_tooltip": null,
            "layout": "IPY_MODEL_c469af1ec04a4e09a58a94d7a4939b6e",
            "placeholder": "​",
            "style": "IPY_MODEL_e91cb28b29ff4aff9aa072e25fd0048e",
            "value": "✅ Downloaded: Zeid_Aldaas_Homework_7.pdf"
          }
        },
        "ed074942e972488090fbd6b1d9128e72": {
          "model_module": "@jupyter-widgets/base",
          "model_name": "LayoutModel",
          "model_module_version": "1.2.0",
          "state": {
            "_model_module": "@jupyter-widgets/base",
            "_model_module_version": "1.2.0",
            "_model_name": "LayoutModel",
            "_view_count": null,
            "_view_module": "@jupyter-widgets/base",
            "_view_module_version": "1.2.0",
            "_view_name": "LayoutView",
            "align_content": null,
            "align_items": null,
            "align_self": null,
            "border": null,
            "bottom": null,
            "display": null,
            "flex": null,
            "flex_flow": null,
            "grid_area": null,
            "grid_auto_columns": null,
            "grid_auto_flow": null,
            "grid_auto_rows": null,
            "grid_column": null,
            "grid_gap": null,
            "grid_row": null,
            "grid_template_areas": null,
            "grid_template_columns": null,
            "grid_template_rows": null,
            "height": null,
            "justify_content": null,
            "justify_items": null,
            "left": null,
            "margin": null,
            "max_height": null,
            "max_width": null,
            "min_height": null,
            "min_width": null,
            "object_fit": null,
            "object_position": null,
            "order": null,
            "overflow": null,
            "overflow_x": null,
            "overflow_y": null,
            "padding": null,
            "right": null,
            "top": null,
            "visibility": null,
            "width": null
          }
        },
        "7515829c6b754542b05e470697263c51": {
          "model_module": "@jupyter-widgets/base",
          "model_name": "LayoutModel",
          "model_module_version": "1.2.0",
          "state": {
            "_model_module": "@jupyter-widgets/base",
            "_model_module_version": "1.2.0",
            "_model_name": "LayoutModel",
            "_view_count": null,
            "_view_module": "@jupyter-widgets/base",
            "_view_module_version": "1.2.0",
            "_view_name": "LayoutView",
            "align_content": null,
            "align_items": null,
            "align_self": null,
            "border": null,
            "bottom": null,
            "display": null,
            "flex": null,
            "flex_flow": null,
            "grid_area": null,
            "grid_auto_columns": null,
            "grid_auto_flow": null,
            "grid_auto_rows": null,
            "grid_column": null,
            "grid_gap": null,
            "grid_row": null,
            "grid_template_areas": null,
            "grid_template_columns": null,
            "grid_template_rows": null,
            "height": null,
            "justify_content": null,
            "justify_items": null,
            "left": null,
            "margin": null,
            "max_height": null,
            "max_width": null,
            "min_height": null,
            "min_width": null,
            "object_fit": null,
            "object_position": null,
            "order": null,
            "overflow": null,
            "overflow_x": null,
            "overflow_y": null,
            "padding": null,
            "right": null,
            "top": null,
            "visibility": null,
            "width": null
          }
        },
        "0d0772cbad2b4f5a994b4a17ae32e39b": {
          "model_module": "@jupyter-widgets/controls",
          "model_name": "ButtonStyleModel",
          "model_module_version": "1.5.0",
          "state": {
            "_model_module": "@jupyter-widgets/controls",
            "_model_module_version": "1.5.0",
            "_model_name": "ButtonStyleModel",
            "_view_count": null,
            "_view_module": "@jupyter-widgets/base",
            "_view_module_version": "1.2.0",
            "_view_name": "StyleView",
            "button_color": null,
            "font_weight": ""
          }
        },
        "c469af1ec04a4e09a58a94d7a4939b6e": {
          "model_module": "@jupyter-widgets/base",
          "model_name": "LayoutModel",
          "model_module_version": "1.2.0",
          "state": {
            "_model_module": "@jupyter-widgets/base",
            "_model_module_version": "1.2.0",
            "_model_name": "LayoutModel",
            "_view_count": null,
            "_view_module": "@jupyter-widgets/base",
            "_view_module_version": "1.2.0",
            "_view_name": "LayoutView",
            "align_content": null,
            "align_items": null,
            "align_self": null,
            "border": null,
            "bottom": null,
            "display": null,
            "flex": null,
            "flex_flow": null,
            "grid_area": null,
            "grid_auto_columns": null,
            "grid_auto_flow": null,
            "grid_auto_rows": null,
            "grid_column": null,
            "grid_gap": null,
            "grid_row": null,
            "grid_template_areas": null,
            "grid_template_columns": null,
            "grid_template_rows": null,
            "height": null,
            "justify_content": null,
            "justify_items": null,
            "left": null,
            "margin": null,
            "max_height": null,
            "max_width": null,
            "min_height": null,
            "min_width": null,
            "object_fit": null,
            "object_position": null,
            "order": null,
            "overflow": null,
            "overflow_x": null,
            "overflow_y": null,
            "padding": null,
            "right": null,
            "top": null,
            "visibility": null,
            "width": null
          }
        },
        "e91cb28b29ff4aff9aa072e25fd0048e": {
          "model_module": "@jupyter-widgets/controls",
          "model_name": "DescriptionStyleModel",
          "model_module_version": "1.5.0",
          "state": {
            "_model_module": "@jupyter-widgets/controls",
            "_model_module_version": "1.5.0",
            "_model_name": "DescriptionStyleModel",
            "_view_count": null,
            "_view_module": "@jupyter-widgets/base",
            "_view_module_version": "1.2.0",
            "_view_name": "StyleView",
            "description_width": ""
          }
        }
      }
    }
  },
  "cells": [
    {
      "cell_type": "code",
      "execution_count": null,
      "metadata": {
        "id": "gj1wxxVXvNvZ",
        "colab": {
          "base_uri": "https://localhost:8080/",
          "height": 140
        },
        "outputId": "eb19ec08-9a9e-470d-ec9a-58fed3ea5413"
      },
      "outputs": [
        {
          "output_type": "execute_result",
          "data": {
            "text/plain": [
              "'\\nJaccard\\xa0Similarity= ∣A∪B∣ / ∣A∩B∣\\n\\nRow A: {Apple, Banana, Soymilk, Yogurt}\\nIntersection: {Apple, Soymilk} (2 elements)\\nUnion: {Apple, Banana, Soymilk, Yogurt, Eggs} (5 elements)\\nJaccard Similarity: 2 / 5 = 0.4\\n\\n\\u200bRow B: {Apple, Peanuts, Yogurt}\\nIntersection: {Apple} (1 element)\\nUnion: {Apple, Peanuts, Yogurt, Soymilk, Eggs} (5 elements)\\nJaccard Similarity: 1 / 5 = 0.2\\n\\u200b\\nRow C: {Tomatoes, Potatoes, Yogurt}\\nIntersection: {} (0 elements)\\nUnion: {Tomatoes, Potatoes, Yogurt, Soymilk, Apple, Eggs} (6 elements)\\nJaccard Similarity: 0 / 6 = 0\\n\\nRow D: {Apple, Tomatoes, Potatoes}\\nIntersection: {Apple} (1 element)\\nUnion: {Apple, Tomatoes, Potatoes, Soymilk, Eggs} (5 elements)\\nJaccard Similarity: 1 / 5 = 0.2\\n\\nNearest Neighbor = Row A because it has the highest Jaccard Similarity\\nClass of Row A is Vegetarian\\n\\nANSWER: Vegetarian\\n'"
            ],
            "application/vnd.google.colaboratory.intrinsic+json": {
              "type": "string"
            }
          },
          "metadata": {},
          "execution_count": 8
        }
      ],
      "source": [
        "# 1. What would the 1-Nearest Neighbor approach predict is the class when the feature set is {Soymilk, Apple, Eggs} and the following data is used as the training data (same table as the classwork)? Use the Jaccard similarity to calculate neighbors. Show your calculations. (Note: do NOT write any code for this problem. The answers are to be computed by hand.)\n",
        "'''\n",
        "Jaccard Similarity= ∣A∪B∣ / ∣A∩B∣\n",
        "\n",
        "Row A: {Apple, Banana, Soymilk, Yogurt}\n",
        "Intersection: {Apple, Soymilk} (2 elements)\n",
        "Union: {Apple, Banana, Soymilk, Yogurt, Eggs} (5 elements)\n",
        "Jaccard Similarity: 2 / 5 = 0.4\n",
        "\n",
        "​Row B: {Apple, Peanuts, Yogurt}\n",
        "Intersection: {Apple} (1 element)\n",
        "Union: {Apple, Peanuts, Yogurt, Soymilk, Eggs} (5 elements)\n",
        "Jaccard Similarity: 1 / 5 = 0.2\n",
        "​\n",
        "Row C: {Tomatoes, Potatoes, Yogurt}\n",
        "Intersection: {} (0 elements)\n",
        "Union: {Tomatoes, Potatoes, Yogurt, Soymilk, Apple, Eggs} (6 elements)\n",
        "Jaccard Similarity: 0 / 6 = 0\n",
        "\n",
        "Row D: {Apple, Tomatoes, Potatoes}\n",
        "Intersection: {Apple} (1 element)\n",
        "Union: {Apple, Tomatoes, Potatoes, Soymilk, Eggs} (5 elements)\n",
        "Jaccard Similarity: 1 / 5 = 0.2\n",
        "\n",
        "Nearest Neighbor = Row A because it has the highest Jaccard Similarity\n",
        "Class of Row A is Vegetarian\n",
        "\n",
        "ANSWER: Vegetarian\n",
        "'''"
      ]
    },
    {
      "cell_type": "code",
      "source": [
        "# 2. Consider the following dataset. (Note: do NOT write any code for this problem. The answers are to be computed by hand and marked on the graph. You can visually guess some of the answers.)\n",
        "# e. Will the k-means algorithm terminate after this first iteration or will it continue? Answer in 1-2 sentences.\n",
        "# ANSWER: The k-means algorithm will continue. Since the cluster centers have changed from the initial positions, the algorithm will perform additional iterations to verify if further adjustments to the centers are needed, eventually converging when the centers no longer change.\n",
        "# f. If a new point (Length=140, Width=60) is given, to which cluster will it belong?\n",
        "'''\n",
        "To determine the closest cluster for the new point (140, 60):\n",
        "Distance to New Center 1 (130, 70):\n",
        "d = sqrt((140−130)^2 + (60−70)^2) ≈ 14.14\n",
        "Distance to New Center 2 (170, 30):\n",
        "d = sqrt((140−170)^2 + (60−30)^2) ≈ 42.43\n",
        "\n",
        "Since the new point (140, 60) is closer to New Center 1 (130, 70), it would belong to Cluster 1.\n",
        "'''\n",
        "# a-d.\n",
        "from google.colab import files\n",
        "from IPython.display import Image\n",
        "Image(filename=\"2.png\")"
      ],
      "metadata": {
        "colab": {
          "base_uri": "https://localhost:8080/",
          "height": 487
        },
        "id": "czXkkKkP8WsU",
        "outputId": "645e202c-cbf3-4883-99c9-33f3be4feb64"
      },
      "execution_count": null,
      "outputs": [
        {
          "output_type": "execute_result",
          "data": {
            "image/png": "[encoded data removed]",
            "text/plain": [
              "<IPython.core.display.Image object>"
            ]
          },
          "metadata": {},
          "execution_count": 9
        }
      ]
    },
    {
      "cell_type": "code",
      "source": [
        "# 3. Consider the file breast-cancer-wisconsin.csv (in the K-means clustering; Evaluation metrics module on Canvas) which contains “Features computed from a digitized image of a fine needle aspirate (FNA) of a breast mass.” The goal is to cluster the data based on the features to distinguish Benign and Malignant cases.\n",
        "# a. Read the data from the file into an object called “mydata”. Column 1 (“Code”) is the anonymized subject code and will not be used here. Columns 2-10 are the 9 features. Column 11 is the diagnosis: [B]enign or [M]alignant.\n",
        "!pip install pandas\n",
        "import pandas as pd\n",
        "mydata = pd.read_csv(\"breast-cancer-wisconsin.csv\")\n",
        "# i. How many total cases are there in the data?: ___\n",
        "total_cases = mydata.shape[0]\n",
        "print(f\"Total cases: {total_cases}\")\n",
        "# ii. How many [B]enign cases are there in the data?: ___\n",
        "benign_cases = mydata[mydata['Class'] == 'B'].shape[0]\n",
        "print(f\"Benign cases: {benign_cases}\")\n",
        "# iii. How many [M]alignant cases are there in the data?: ___\n",
        "malignant_cases = mydata[mydata['Class'] == 'M'].shape[0]\n",
        "print(f\"Malignant cases: {malignant_cases}\")"
      ],
      "metadata": {
        "colab": {
          "base_uri": "https://localhost:8080/"
        },
        "id": "3Kie0MA-B53c",
        "outputId": "305fa163-f3cc-4779-953e-aa0bd811805d"
      },
      "execution_count": null,
      "outputs": [
        {
          "output_type": "stream",
          "name": "stdout",
          "text": [
            "Requirement already satisfied: pandas in /usr/local/lib/python3.10/dist-packages (2.2.2)\n",
            "Requirement already satisfied: numpy>=1.22.4 in /usr/local/lib/python3.10/dist-packages (from pandas) (1.26.4)\n",
            "Requirement already satisfied: python-dateutil>=2.8.2 in /usr/local/lib/python3.10/dist-packages (from pandas) (2.8.2)\n",
            "Requirement already satisfied: pytz>=2020.1 in /usr/local/lib/python3.10/dist-packages (from pandas) (2024.2)\n",
            "Requirement already satisfied: tzdata>=2022.7 in /usr/local/lib/python3.10/dist-packages (from pandas) (2024.2)\n",
            "Requirement already satisfied: six>=1.5 in /usr/local/lib/python3.10/dist-packages (from python-dateutil>=2.8.2->pandas) (1.16.0)\n",
            "Total cases: 683\n",
            "Benign cases: 444\n",
            "Malignant cases: 239\n"
          ]
        }
      ]
    },
    {
      "cell_type": "code",
      "source": [
        "# b. Run k-means clustering using all the rows and only the following features: ClumpThickness, CellSize, and Nuclei. Use nstart=10.\n",
        "# i. What should be the value of k? k = ___\n",
        "# ANSWER: In this context, since we are trying to cluster benign and malignant cases, it makes sense to set 𝑘 = 2 because we have two classes (Benign and Malignant). We will proceed with 𝑘 = 2.\n",
        "# ii. Give Python code:\n",
        "from sklearn.cluster import KMeans\n",
        "\n",
        "features = mydata[['ClumpThickness', 'CellSize', 'Nuclei']]\n",
        "\n",
        "kmeans = KMeans(n_clusters=2, n_init=10, random_state=42)\n",
        "kmeans.fit(features)\n",
        "\n",
        "print(\"Cluster Centers:\")\n",
        "print(kmeans.cluster_centers_)\n",
        "print(\"\\nCluster Labels:\")\n",
        "print(kmeans.labels_)"
      ],
      "metadata": {
        "colab": {
          "base_uri": "https://localhost:8080/"
        },
        "id": "BkKE0hrjEXei",
        "outputId": "e81110b3-1625-4abd-a7b4-cc8d57819a7d"
      },
      "execution_count": null,
      "outputs": [
        {
          "output_type": "stream",
          "name": "stdout",
          "text": [
            "Cluster Centers:\n",
            "[[7.27876106 6.80973451 8.07964602]\n",
            " [3.03938731 1.34135667 1.30196937]]\n",
            "\n",
            "Cluster Labels:\n",
            "[1 0 1 0 1 0 0 1 1 1 1 1 1 1 0 1 1 1 0 1 0 0 1 1 0 1 1 1 1 1 1 0 1 1 1 0 1\n",
            " 0 0 0 0 1 0 1 0 1 1 0 0 1 0 0 0 0 0 1 0 0 1 1 0 1 1 0 1 0 0 1 1 0 1 0 0 1\n",
            " 1 1 1 1 1 1 1 1 0 0 0 0 1 1 1 1 1 1 1 1 1 1 0 0 0 1 1 1 0 1 0 0 1 0 1 0 0\n",
            " 0 1 1 1 0 1 1 1 1 0 0 0 1 0 1 0 1 1 1 0 1 1 1 1 1 1 1 1 0 1 1 0 1 1 0 1 0\n",
            " 0 1 1 0 1 1 0 0 1 1 1 1 0 0 1 1 1 1 1 0 0 0 1 0 1 0 1 1 1 0 0 1 0 0 0 1 0\n",
            " 0 1 1 1 1 0 1 1 1 0 0 1 1 1 0 0 1 1 1 0 0 1 0 0 0 1 1 0 1 1 0 1 0 0 1 0 0\n",
            " 1 0 0 0 1 0 1 0 0 0 0 1 1 1 1 1 1 0 0 1 1 0 0 0 0 0 1 1 1 0 0 0 0 0 0 1 0\n",
            " 0 0 1 0 1 0 1 1 1 1 1 0 1 1 0 0 0 0 0 1 1 0 1 1 0 0 1 1 0 0 1 0 1 0 0 1 1\n",
            " 0 1 1 1 1 1 1 0 0 1 1 0 1 0 1 1 0 1 0 0 0 1 1 0 0 1 0 1 1 0 0 1 1 1 0 1 1\n",
            " 1 1 0 1 1 1 0 1 1 1 0 0 0 0 0 1 1 1 1 0 0 1 1 1 1 1 1 1 1 1 1 1 1 1 0 1 1\n",
            " 1 1 0 1 1 1 1 0 1 1 1 1 1 1 1 1 0 1 1 1 1 1 1 1 1 1 1 0 1 0 1 0 1 1 1 1 0\n",
            " 1 1 1 0 1 0 1 1 1 1 1 1 0 0 0 1 1 1 0 1 1 1 1 1 1 1 1 0 1 1 1 0 1 0 0 0 1\n",
            " 1 1 1 1 1 1 0 0 0 1 1 1 1 1 1 1 1 1 1 1 0 1 1 0 0 1 1 1 0 1 1 1 0 1 0 1 1\n",
            " 1 1 1 1 1 1 1 1 1 1 0 1 1 1 1 1 1 1 0 0 1 1 1 0 1 1 0 0 1 1 1 1 1 1 0 1 1\n",
            " 1 1 1 1 1 1 1 1 1 1 1 1 1 0 1 1 0 1 1 1 1 1 1 1 1 1 1 1 1 1 1 1 0 1 1 0 0\n",
            " 0 0 1 1 0 1 1 1 1 1 1 0 0 1 1 1 0 1 0 1 0 0 0 1 0 1 1 1 1 1 1 1 1 1 0 0 1\n",
            " 1 0 1 0 0 0 1 1 1 1 1 1 1 1 1 1 1 1 0 1 1 1 1 1 1 0 1 1 0 1 1 1 1 1 1 1 1\n",
            " 1 1 1 0 1 1 1 1 1 1 1 1 1 0 1 1 1 1 1 1 1 1 1 1 0 0 1 1 1 1 1 1 1 1 1 0 0\n",
            " 1 1 1 1 1 1 1 1 1 0 1 1 1 1 0 0 0]\n"
          ]
        }
      ]
    },
    {
      "cell_type": "code",
      "source": [
        "# c. Evaluation: Compare the resulting clusters with the known diagnosis\n",
        "# i & ii. What is the contingency table of your clustering? (Hint: use the scikit-learn confusion_matrix() function. You can arbitrarily assign cluster 1/2 to Benign/Malignant)\n",
        "from sklearn.metrics import confusion_matrix\n",
        "\n",
        "true_labels = mydata['Class'].apply(lambda x: 0 if x == 'B' else 1)\n",
        "\n",
        "kmeans = KMeans(n_clusters=2, n_init=10, random_state=42)\n",
        "kmeans.fit(features)\n",
        "\n",
        "predicted_labels = kmeans.labels_\n",
        "\n",
        "if sum(predicted_labels == true_labels) < sum(predicted_labels != true_labels):\n",
        "    predicted_labels = 1 - predicted_labels\n",
        "\n",
        "\n",
        "conf_matrix = confusion_matrix(true_labels, predicted_labels)\n",
        "\n",
        "\n",
        "print(\"Contingency Table (Confusion Matrix):\")\n",
        "print(conf_matrix)"
      ],
      "metadata": {
        "colab": {
          "base_uri": "https://localhost:8080/"
        },
        "id": "tfadSsAdFSQk",
        "outputId": "b9619b2a-0890-4388-98f8-9e34186cc899"
      },
      "execution_count": null,
      "outputs": [
        {
          "output_type": "stream",
          "name": "stdout",
          "text": [
            "Contingency Table (Confusion Matrix):\n",
            "[[437   7]\n",
            " [ 20 219]]\n"
          ]
        }
      ]
    },
    {
      "cell_type": "code",
      "source": [
        "# 4. Using the contingency table that you obtained from the previous problem (3.c), calculate the following metrics (consider Malignant as the Positive class):\n",
        "from sklearn.metrics import confusion_matrix, accuracy_score, precision_score, recall_score, f1_score\n",
        "\n",
        "TN = 437  # True Negatives\n",
        "FP = 7    # False Positives\n",
        "FN = 20   # False Negatives\n",
        "TP = 219  # True Positives\n",
        "\n",
        "# Calculate metrics for the k-means classifier\n",
        "accuracy_kmeans = (TP + TN) / (TP + TN + FP + FN)\n",
        "error_rate_kmeans = 1 - accuracy_kmeans\n",
        "precision_kmeans = TP / (TP + FP)\n",
        "recall_kmeans = TP / (TP + FN)\n",
        "f_score_kmeans = 2 * (precision_kmeans * recall_kmeans) / (precision_kmeans + recall_kmeans)\n",
        "\n",
        "print(\"k-means Classifier Metrics:\")\n",
        "print(\"Accuracy:\", round(accuracy_kmeans, 4))\n",
        "print(\"Error Rate:\", round(error_rate_kmeans, 4))\n",
        "print(\"Precision:\", round(precision_kmeans, 4))\n",
        "print(\"Recall:\", round(recall_kmeans, 4))\n",
        "print(\"F-score:\", round(f_score_kmeans, 4))\n",
        "\n",
        "# Calculate metrics for the \"silly\" classifier (all predictions as Malignant)\n",
        "# Total counts\n",
        "total_cases = TN + FP + FN + TP\n",
        "total_malignant = TP + FN  # All Malignant cases\n",
        "total_benign = TN + FP     # All Benign cases\n",
        "\n",
        "# Silly classifier (predicting all as Malignant)\n",
        "TP_silly = total_malignant\n",
        "FP_silly = total_benign\n",
        "TN_silly = 0\n",
        "FN_silly = 0\n",
        "\n",
        "# Silly classifier metrics\n",
        "accuracy_silly = TP_silly / total_cases\n",
        "error_rate_silly = 1 - accuracy_silly\n",
        "precision_silly = TP_silly / (TP_silly + FP_silly)\n",
        "recall_silly = 1  # FN_silly is 0, so recall is maximized at 1\n",
        "f_score_silly = 2 * (precision_silly * recall_silly) / (precision_silly + recall_silly)\n",
        "\n",
        "print(\"\\nSilly Classifier Metrics:\")\n",
        "print(\"Accuracy:\", round(accuracy_silly, 4))\n",
        "print(\"Error Rate:\", round(error_rate_silly, 4))\n",
        "print(\"Precision:\", round(precision_silly, 4))\n",
        "print(\"Recall:\", round(recall_silly, 4))\n",
        "print(\"F-score:\", round(f_score_silly, 4))\n",
        "\n"
      ],
      "metadata": {
        "colab": {
          "base_uri": "https://localhost:8080/"
        },
        "id": "RQZNYLhJGUVX",
        "outputId": "0ef70f8e-f8a0-4eb5-ef3e-4672aef2d5ac"
      },
      "execution_count": null,
      "outputs": [
        {
          "output_type": "stream",
          "name": "stdout",
          "text": [
            "k-means Classifier Metrics:\n",
            "Accuracy: 0.9605\n",
            "Error Rate: 0.0395\n",
            "Precision: 0.969\n",
            "Recall: 0.9163\n",
            "F-score: 0.9419\n",
            "\n",
            "Silly Classifier Metrics:\n",
            "Accuracy: 0.3499\n",
            "Error Rate: 0.6501\n",
            "Precision: 0.3499\n",
            "Recall: 1\n",
            "F-score: 0.5184\n"
          ]
        }
      ]
    },
    {
      "cell_type": "code",
      "source": [
        "def colab2pdf():\n",
        "  # @title Download Notebook in PDF Format{display-mode:'form'}\n",
        "  !apt-get install -yqq --no-install-recommends librsvg2-bin>/dev/null;\n",
        "  import contextlib,datetime,google,io,IPython,ipywidgets,json,locale,nbformat,os,pathlib,requests,urllib,warnings,werkzeug,yaml,re;locale.setlocale(locale.LC_ALL,'en_US.UTF-8');warnings.filterwarnings('ignore',category=nbformat.validator.MissingIDFieldWarning);\n",
        "  %matplotlib inline\n",
        "  def convert(b):\n",
        "    try:\n",
        "      s.value='🔄 Converting';b.disabled=True\n",
        "      n=pathlib.Path(werkzeug.utils.secure_filename(urllib.parse.unquote(requests.get(f'http://{os.environ[\"COLAB_JUPYTER_IP\"]}:{os.environ[\"KMP_TARGET_PORT\"]}/api/sessions').json()[0]['name'])))\n",
        "      p=pathlib.Path('/content/pdfs')/f'{datetime.datetime.utcnow().strftime(\"%Y%m%d_%H%M%S\")}_{n.stem}';p.mkdir(parents=True,exist_ok=True);nb=nbformat.reads(json.dumps(google.colab._message.blocking_request('get_ipynb',timeout_sec=600)['ipynb']),as_version=4)\n",
        "      u=[u for c in nb.cells if c.get('cell_type')=='markdown' for u in re.findall(r'!\\[.*?\\]\\((https?://.*?)\\)',c['source']) if requests.head(u,timeout=5).status_code!=200]\n",
        "      if u:raise Exception(f\"Bad Image URLs: {','.join(u)}\")\n",
        "      nb.cells=[cell for cell in nb.cells if '--Colab2PDF' not in cell.source]\n",
        "      nb=nbformat.v4.new_notebook(cells=nb.cells or [nbformat.v4.new_code_cell('#')]);nbformat.validator.normalize(nb)\n",
        "      nbformat.write(nb,(p/f'{n.stem}.ipynb').open('w',encoding='utf-8'))\n",
        "      with (p/'config.yml').open('w', encoding='utf-8') as f: yaml.dump({'include-in-header':[{'text':r'\\usepackage{fvextra}\\DefineVerbatimEnvironment{Highlighting}{Verbatim}{breaksymbolleft={},showspaces=false,showtabs=false,breaklines,breakanywhere,commandchars=\\\\\\{\\}}'}],'include-before-body':[{'text':r'\\DefineVerbatimEnvironment{verbatim}{Verbatim}{breaksymbolleft={},showspaces=false,showtabs=false,breaklines}'}]},f)\n",
        "      !quarto render {p}/{n.stem}.ipynb --metadata-file={p}/config.yml --to pdf -M latex-auto-install -M margin-top=1in -M margin-bottom=1in -M margin-left=1in -M margin-right=1in --quiet\n",
        "      google.colab.files.download(str(p/f'{n.stem}.pdf'));s.value=f'✅ Downloaded: {n.stem}.pdf'\n",
        "    except Exception as e:s.value=f'❌ {str(e)}'\n",
        "    finally:b.disabled=False\n",
        "  if not pathlib.Path('/usr/local/bin/quarto').exists():\n",
        "    !wget -q 'https://quarto.org/download/latest/quarto-linux-amd64.deb' && dpkg -i quarto-linux-amd64.deb>/dev/null && quarto install tinytex --update-path --quiet && rm quarto-linux-amd64.deb\n",
        "  b=ipywidgets.widgets.Button(description='⬇️ Download');s=ipywidgets.widgets.Label();b.on_click(lambda b:convert(b));IPython.display.display(ipywidgets.widgets.HBox([b,s]))\n",
        "colab2pdf() # | Colab2PDF v1.6 | https://github.com/drengskapur/colab2pdf | GPL-3.0-or-later |"
      ],
      "metadata": {
        "colab": {
          "base_uri": "https://localhost:8080/",
          "height": 49,
          "referenced_widgets": [
            "b5b5272f71cf46ee9b8625117252a4ee",
            "56951379381642559f933f6a842530cb",
            "629a71c3d0c145ca8c7d3d7ea2ae928a",
            "ed074942e972488090fbd6b1d9128e72",
            "7515829c6b754542b05e470697263c51",
            "0d0772cbad2b4f5a994b4a17ae32e39b",
            "c469af1ec04a4e09a58a94d7a4939b6e",
            "e91cb28b29ff4aff9aa072e25fd0048e"
          ]
        },
        "id": "axYgjKm1HXth",
        "outputId": "50932b81-7cf6-412d-fbd3-e7ec3c89239c"
      },
      "execution_count": null,
      "outputs": [
        {
          "output_type": "display_data",
          "data": {
            "text/plain": [
              "HBox(children=(Button(description='⬇️ Download', style=ButtonStyle()), Label(value='')))"
            ],
            "application/vnd.jupyter.widget-view+json": {
              "version_major": 2,
              "version_minor": 0,
              "model_id": "b5b5272f71cf46ee9b8625117252a4ee"
            }
          },
          "metadata": {}
        },
        {
          "output_type": "display_data",
          "data": {
            "text/plain": [
              "<IPython.core.display.Javascript object>"
            ],
            "application/javascript": [
              "\n",
              "    async function download(id, filename, size) {\n",
              "      if (!google.colab.kernel.accessAllowed) {\n",
              "        return;\n",
              "      }\n",
              "      const div = document.createElement('div');\n",
              "      const label = document.createElement('label');\n",
              "      label.textContent = `Downloading \"${filename}\": `;\n",
              "      div.appendChild(label);\n",
              "      const progress = document.createElement('progress');\n",
              "      progress.max = size;\n",
              "      div.appendChild(progress);\n",
              "      document.body.appendChild(div);\n",
              "\n",
              "      const buffers = [];\n",
              "      let downloaded = 0;\n",
              "\n",
              "      const channel = await google.colab.kernel.comms.open(id);\n",
              "      // Send a message to notify the kernel that we're ready.\n",
              "      channel.send({})\n",
              "\n",
              "      for await (const message of channel.messages) {\n",
              "        // Send a message to notify the kernel that we're ready.\n",
              "        channel.send({})\n",
              "        if (message.buffers) {\n",
              "          for (const buffer of message.buffers) {\n",
              "            buffers.push(buffer);\n",
              "            downloaded += buffer.byteLength;\n",
              "            progress.value = downloaded;\n",
              "          }\n",
              "        }\n",
              "      }\n",
              "      const blob = new Blob(buffers, {type: 'application/binary'});\n",
              "      const a = document.createElement('a');\n",
              "      a.href = window.URL.createObjectURL(blob);\n",
              "      a.download = filename;\n",
              "      div.appendChild(a);\n",
              "      a.click();\n",
              "      div.remove();\n",
              "    }\n",
              "  "
            ]
          },
          "metadata": {}
        },
        {
          "output_type": "display_data",
          "data": {
            "text/plain": [
              "<IPython.core.display.Javascript object>"
            ],
            "application/javascript": [
              "download(\"download_19607bfb-6409-4697-b07f-fae34b7b3e51\", \"Zeid_Aldaas_Homework_7.pdf\", 38525)"
            ]
          },
          "metadata": {}
        }
      ]
    }
  ]
}