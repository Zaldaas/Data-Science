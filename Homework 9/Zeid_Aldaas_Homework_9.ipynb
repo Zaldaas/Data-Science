{
  "nbformat": 4,
  "nbformat_minor": 0,
  "metadata": {
    "colab": {
      "provenance": []
    },
    "kernelspec": {
      "name": "python3",
      "display_name": "Python 3"
    },
    "language_info": {
      "name": "python"
    },
    "widgets": {
      "application/vnd.jupyter.widget-state+json": {
        "96ca15996f9e4693a791538ef9fcbe85": {
          "model_module": "@jupyter-widgets/controls",
          "model_name": "HBoxModel",
          "model_module_version": "1.5.0",
          "state": {
            "_dom_classes": [],
            "_model_module": "@jupyter-widgets/controls",
            "_model_module_version": "1.5.0",
            "_model_name": "HBoxModel",
            "_view_count": null,
            "_view_module": "@jupyter-widgets/controls",
            "_view_module_version": "1.5.0",
            "_view_name": "HBoxView",
            "box_style": "",
            "children": [
              "IPY_MODEL_3cd96cc03ae0469cb1a2357f6be5b0e8",
              "IPY_MODEL_ba34f77ee6634f30b7db3bb186caa95f"
            ],
            "layout": "IPY_MODEL_ec947d1f5045492597f3af019d02a070"
          }
        },
        "3cd96cc03ae0469cb1a2357f6be5b0e8": {
          "model_module": "@jupyter-widgets/controls",
          "model_name": "ButtonModel",
          "model_module_version": "1.5.0",
          "state": {
            "_dom_classes": [],
            "_model_module": "@jupyter-widgets/controls",
            "_model_module_version": "1.5.0",
            "_model_name": "ButtonModel",
            "_view_count": null,
            "_view_module": "@jupyter-widgets/controls",
            "_view_module_version": "1.5.0",
            "_view_name": "ButtonView",
            "button_style": "",
            "description": "⬇️ Download",
            "disabled": false,
            "icon": "",
            "layout": "IPY_MODEL_58de88f366f64495bb3af299e21d87e1",
            "style": "IPY_MODEL_eb7fa2fe522b49799e4f8d925c4c7a03",
            "tooltip": ""
          }
        },
        "ba34f77ee6634f30b7db3bb186caa95f": {
          "model_module": "@jupyter-widgets/controls",
          "model_name": "LabelModel",
          "model_module_version": "1.5.0",
          "state": {
            "_dom_classes": [],
            "_model_module": "@jupyter-widgets/controls",
            "_model_module_version": "1.5.0",
            "_model_name": "LabelModel",
            "_view_count": null,
            "_view_module": "@jupyter-widgets/controls",
            "_view_module_version": "1.5.0",
            "_view_name": "LabelView",
            "description": "",
            "description_tooltip": null,
            "layout": "IPY_MODEL_d8d8edab6e714395b591922f561210f4",
            "placeholder": "​",
            "style": "IPY_MODEL_af3f870637a7473ea8307b480e304879",
            "value": "✅ Downloaded: Zeid_Aldaas_Homework_9.pdf"
          }
        },
        "ec947d1f5045492597f3af019d02a070": {
          "model_module": "@jupyter-widgets/base",
          "model_name": "LayoutModel",
          "model_module_version": "1.2.0",
          "state": {
            "_model_module": "@jupyter-widgets/base",
            "_model_module_version": "1.2.0",
            "_model_name": "LayoutModel",
            "_view_count": null,
            "_view_module": "@jupyter-widgets/base",
            "_view_module_version": "1.2.0",
            "_view_name": "LayoutView",
            "align_content": null,
            "align_items": null,
            "align_self": null,
            "border": null,
            "bottom": null,
            "display": null,
            "flex": null,
            "flex_flow": null,
            "grid_area": null,
            "grid_auto_columns": null,
            "grid_auto_flow": null,
            "grid_auto_rows": null,
            "grid_column": null,
            "grid_gap": null,
            "grid_row": null,
            "grid_template_areas": null,
            "grid_template_columns": null,
            "grid_template_rows": null,
            "height": null,
            "justify_content": null,
            "justify_items": null,
            "left": null,
            "margin": null,
            "max_height": null,
            "max_width": null,
            "min_height": null,
            "min_width": null,
            "object_fit": null,
            "object_position": null,
            "order": null,
            "overflow": null,
            "overflow_x": null,
            "overflow_y": null,
            "padding": null,
            "right": null,
            "top": null,
            "visibility": null,
            "width": null
          }
        },
        "58de88f366f64495bb3af299e21d87e1": {
          "model_module": "@jupyter-widgets/base",
          "model_name": "LayoutModel",
          "model_module_version": "1.2.0",
          "state": {
            "_model_module": "@jupyter-widgets/base",
            "_model_module_version": "1.2.0",
            "_model_name": "LayoutModel",
            "_view_count": null,
            "_view_module": "@jupyter-widgets/base",
            "_view_module_version": "1.2.0",
            "_view_name": "LayoutView",
            "align_content": null,
            "align_items": null,
            "align_self": null,
            "border": null,
            "bottom": null,
            "display": null,
            "flex": null,
            "flex_flow": null,
            "grid_area": null,
            "grid_auto_columns": null,
            "grid_auto_flow": null,
            "grid_auto_rows": null,
            "grid_column": null,
            "grid_gap": null,
            "grid_row": null,
            "grid_template_areas": null,
            "grid_template_columns": null,
            "grid_template_rows": null,
            "height": null,
            "justify_content": null,
            "justify_items": null,
            "left": null,
            "margin": null,
            "max_height": null,
            "max_width": null,
            "min_height": null,
            "min_width": null,
            "object_fit": null,
            "object_position": null,
            "order": null,
            "overflow": null,
            "overflow_x": null,
            "overflow_y": null,
            "padding": null,
            "right": null,
            "top": null,
            "visibility": null,
            "width": null
          }
        },
        "eb7fa2fe522b49799e4f8d925c4c7a03": {
          "model_module": "@jupyter-widgets/controls",
          "model_name": "ButtonStyleModel",
          "model_module_version": "1.5.0",
          "state": {
            "_model_module": "@jupyter-widgets/controls",
            "_model_module_version": "1.5.0",
            "_model_name": "ButtonStyleModel",
            "_view_count": null,
            "_view_module": "@jupyter-widgets/base",
            "_view_module_version": "1.2.0",
            "_view_name": "StyleView",
            "button_color": null,
            "font_weight": ""
          }
        },
        "d8d8edab6e714395b591922f561210f4": {
          "model_module": "@jupyter-widgets/base",
          "model_name": "LayoutModel",
          "model_module_version": "1.2.0",
          "state": {
            "_model_module": "@jupyter-widgets/base",
            "_model_module_version": "1.2.0",
            "_model_name": "LayoutModel",
            "_view_count": null,
            "_view_module": "@jupyter-widgets/base",
            "_view_module_version": "1.2.0",
            "_view_name": "LayoutView",
            "align_content": null,
            "align_items": null,
            "align_self": null,
            "border": null,
            "bottom": null,
            "display": null,
            "flex": null,
            "flex_flow": null,
            "grid_area": null,
            "grid_auto_columns": null,
            "grid_auto_flow": null,
            "grid_auto_rows": null,
            "grid_column": null,
            "grid_gap": null,
            "grid_row": null,
            "grid_template_areas": null,
            "grid_template_columns": null,
            "grid_template_rows": null,
            "height": null,
            "justify_content": null,
            "justify_items": null,
            "left": null,
            "margin": null,
            "max_height": null,
            "max_width": null,
            "min_height": null,
            "min_width": null,
            "object_fit": null,
            "object_position": null,
            "order": null,
            "overflow": null,
            "overflow_x": null,
            "overflow_y": null,
            "padding": null,
            "right": null,
            "top": null,
            "visibility": null,
            "width": null
          }
        },
        "af3f870637a7473ea8307b480e304879": {
          "model_module": "@jupyter-widgets/controls",
          "model_name": "DescriptionStyleModel",
          "model_module_version": "1.5.0",
          "state": {
            "_model_module": "@jupyter-widgets/controls",
            "_model_module_version": "1.5.0",
            "_model_name": "DescriptionStyleModel",
            "_view_count": null,
            "_view_module": "@jupyter-widgets/base",
            "_view_module_version": "1.2.0",
            "_view_name": "StyleView",
            "description_width": ""
          }
        }
      }
    }
  },
  "cells": [
    {
      "cell_type": "code",
      "execution_count": null,
      "metadata": {
        "colab": {
          "base_uri": "https://localhost:8080/"
        },
        "id": "g1oWLX3nGRwI",
        "outputId": "442ddf97-5530-44d3-8d27-34136bc83d3d"
      },
      "outputs": [
        {
          "output_type": "stream",
          "name": "stdout",
          "text": [
            "A Distributed File System replicates data across multiple nodes. If one node crashes, the data can still be accessed from other replicas, protecting against data loss.\n"
          ]
        }
      ],
      "source": [
        "# 1. How does a Distributed File System protect against data loss due to a computer crash? Answer in 2-3 sentences.\n",
        "print(\"A Distributed File System replicates data across multiple nodes. If one node crashes, the data can still be accessed from other replicas, protecting against data loss.\")"
      ]
    },
    {
      "cell_type": "code",
      "source": [
        "# 2. Consider the problem of counting all length-3 sequences, including overlapping sequences, i.e., the number of occurrences of AGA, GAT, ATA, … using the following Map-Reduce program.\n",
        "def map_fn(chunk):\n",
        "    for i in range(len(chunk)-2):\n",
        "        w = chunk[i:i+3]\n",
        "        yield (w, 1)\n",
        "\n",
        "def reduce_fn(key, values):\n",
        "    yield (key, sum(values))\n",
        "\n",
        "\n",
        "# Below is a string containing a DNA sequence:\n",
        "dna = \"AGATAGA\"\n",
        "\n",
        "# a) What are ALL the key, value pairs output by the Map step?\n",
        "map_output = list(map_fn(dna))\n",
        "print(\"a) What are ALL the key, value pairs output by the Map step?\")\n",
        "for kv in map_output:\n",
        "    print(kv)\n",
        "\n",
        "# b) What are ALL the key, value pairs input to the Reduce steps?\n",
        "from collections import defaultdict\n",
        "grouped = defaultdict(list)\n",
        "for k, v in map_output:\n",
        "    grouped[k].append(v)\n",
        "\n",
        "print(\"\\nb) What are ALL the key, value pairs input to the Reduce steps?\")\n",
        "for k, vs in grouped.items():\n",
        "    print(k, vs)\n",
        "\n",
        "# c) What is the output after the Reduce steps?\n",
        "reduce_output = []\n",
        "for k, vs in grouped.items():\n",
        "    reduce_output.extend(list(reduce_fn(k, vs)))\n",
        "\n",
        "print(\"\\nc) What is the output after the Reduce steps?\")\n",
        "for kv in reduce_output:\n",
        "    print(kv)\n"
      ],
      "metadata": {
        "colab": {
          "base_uri": "https://localhost:8080/"
        },
        "id": "qX6UxNoYGYzI",
        "outputId": "239c3670-b9d8-41be-8fc4-365bec569378"
      },
      "execution_count": null,
      "outputs": [
        {
          "output_type": "stream",
          "name": "stdout",
          "text": [
            "a) What are ALL the key, value pairs output by the Map step?\n",
            "('AGA', 1)\n",
            "('GAT', 1)\n",
            "('ATA', 1)\n",
            "('TAG', 1)\n",
            "('AGA', 1)\n",
            "\n",
            "b) What are ALL the key, value pairs input to the Reduce steps?\n",
            "AGA [1, 1]\n",
            "GAT [1]\n",
            "ATA [1]\n",
            "TAG [1]\n",
            "\n",
            "c) What is the output after the Reduce steps?\n",
            "('AGA', 2)\n",
            "('GAT', 1)\n",
            "('ATA', 1)\n",
            "('TAG', 1)\n"
          ]
        }
      ]
    },
    {
      "cell_type": "code",
      "source": [
        "import pandas as pd\n",
        "from collections import defaultdict\n",
        "\n",
        "# 3. Consider the following Map-Reduce program to process a data frame.\n",
        "def map_fn(chunk):\n",
        "    inputvalue = chunk.squeeze()\n",
        "    if inputvalue.arr_delay > 30:\n",
        "        yield (inputvalue.dest, 1)\n",
        "\n",
        "def reduce_fn(key, values):\n",
        "    yield (key, ())\n",
        "\n",
        "# If the input data frame is:\n",
        "data = pd.DataFrame({\n",
        "    \"flight\": [\"UA\", \"UA\", \"DL\", \"DL\"],\n",
        "    \"carrier\": [345, 452, 428, 567],\n",
        "    \"arr_delay\": [20, 38, 4, 42],\n",
        "    \"dest\": [\"LAX\", \"MIA\", \"MIA\", \"ORD\"]\n",
        "})\n",
        "\n",
        "# a. How many times will map() be executed?\n",
        "map_executions = len(data)\n",
        "print(\"a. How many times will map() be executed?\\n\", map_executions)\n",
        "\n",
        "# b. What are ALL the (key, value) pairs output by the Map functions?\n",
        "map_output = []\n",
        "for i in range(len(data)):\n",
        "    chunk = data.iloc[[i]]\n",
        "    for kv in map_fn(chunk):\n",
        "        map_output.append(kv)\n",
        "\n",
        "print(\"\\nb. What are ALL the (key, value) pairs output by the Map functions?\")\n",
        "for kv in map_output:\n",
        "    print(kv)\n",
        "\n",
        "# c. What are ALL the (key, value) pairs input to the Reduce functions?\n",
        "grouped = defaultdict(list)\n",
        "for k, v in map_output:\n",
        "    grouped[k].append(v)\n",
        "\n",
        "print(\"\\nc. What are ALL the (key, value) pairs input to the Reduce functions?\")\n",
        "for k, vs in grouped.items():\n",
        "    print(k, vs)\n",
        "\n",
        "# d. What is the output (keys only) output by the Reduce functions?\n",
        "reduce_output = []\n",
        "for k, vs in grouped.items():\n",
        "    for out in reduce_fn(k, vs):\n",
        "        reduce_output.append(out)\n",
        "\n",
        "print(\"\\nd. What is the output (keys only) output by the Reduce functions?\")\n",
        "for kv in reduce_output:\n",
        "    print(kv)\n",
        "\n",
        "# e. What does the above map-reduce program do?\n",
        "print(\"\\ne. What does the above map-reduce program do?\\nThis map-reduce program filters rows by arr_delay > 30 and groups them by dest, effectively identifying destinations with delayed flights.\")\n"
      ],
      "metadata": {
        "colab": {
          "base_uri": "https://localhost:8080/"
        },
        "id": "UdfccYwlHHzJ",
        "outputId": "77d10e79-3417-4095-c36e-ffee83ded19e"
      },
      "execution_count": null,
      "outputs": [
        {
          "output_type": "stream",
          "name": "stdout",
          "text": [
            "a. How many times will map() be executed?\n",
            " 4\n",
            "\n",
            "b. What are ALL the (key, value) pairs output by the Map functions?\n",
            "('MIA', 1)\n",
            "('ORD', 1)\n",
            "\n",
            "c. What are ALL the (key, value) pairs input to the Reduce functions?\n",
            "MIA [1]\n",
            "ORD [1]\n",
            "\n",
            "d. What is the output (keys only) output by the Reduce functions?\n",
            "('MIA', ())\n",
            "('ORD', ())\n",
            "\n",
            "e. What does the above map-reduce program do?\n",
            "This map-reduce program filters rows by arr_delay > 30 and groups them by dest, effectively identifying destinations with delayed flights.\n"
          ]
        }
      ]
    },
    {
      "cell_type": "code",
      "source": [
        "def colab2pdf():\n",
        "  # @title Download Notebook in PDF Format{display-mode:'form'}\n",
        "  !apt-get install -yqq --no-install-recommends librsvg2-bin>/dev/null;\n",
        "  import contextlib,datetime,google,io,IPython,ipywidgets,json,locale,nbformat,os,pathlib,requests,urllib,warnings,werkzeug,yaml,re;locale.setlocale(locale.LC_ALL,'en_US.UTF-8');warnings.filterwarnings('ignore',category=nbformat.validator.MissingIDFieldWarning);\n",
        "  %matplotlib inline\n",
        "  def convert(b):\n",
        "    try:\n",
        "      s.value='🔄 Converting';b.disabled=True\n",
        "      n=pathlib.Path(werkzeug.utils.secure_filename(urllib.parse.unquote(requests.get(f'http://{os.environ[\"COLAB_JUPYTER_IP\"]}:{os.environ[\"KMP_TARGET_PORT\"]}/api/sessions').json()[0]['name'])))\n",
        "      p=pathlib.Path('/content/pdfs')/f'{datetime.datetime.utcnow().strftime(\"%Y%m%d_%H%M%S\")}_{n.stem}';p.mkdir(parents=True,exist_ok=True);nb=nbformat.reads(json.dumps(google.colab._message.blocking_request('get_ipynb',timeout_sec=600)['ipynb']),as_version=4)\n",
        "      u=[u for c in nb.cells if c.get('cell_type')=='markdown' for u in re.findall(r'!\\[.*?\\]\\((https?://.*?)\\)',c['source']) if requests.head(u,timeout=5).status_code!=200]\n",
        "      if u:raise Exception(f\"Bad Image URLs: {','.join(u)}\")\n",
        "      nb.cells=[cell for cell in nb.cells if '--Colab2PDF' not in cell.source]\n",
        "      nb=nbformat.v4.new_notebook(cells=nb.cells or [nbformat.v4.new_code_cell('#')]);nbformat.validator.normalize(nb)\n",
        "      nbformat.write(nb,(p/f'{n.stem}.ipynb').open('w',encoding='utf-8'))\n",
        "      with (p/'config.yml').open('w', encoding='utf-8') as f: yaml.dump({'include-in-header':[{'text':r'\\usepackage{fvextra}\\DefineVerbatimEnvironment{Highlighting}{Verbatim}{breaksymbolleft={},showspaces=false,showtabs=false,breaklines,breakanywhere,commandchars=\\\\\\{\\}}'}],'include-before-body':[{'text':r'\\DefineVerbatimEnvironment{verbatim}{Verbatim}{breaksymbolleft={},showspaces=false,showtabs=false,breaklines}'}]},f)\n",
        "      !quarto render {p}/{n.stem}.ipynb --metadata-file={p}/config.yml --to pdf -M latex-auto-install -M margin-top=1in -M margin-bottom=1in -M margin-left=1in -M margin-right=1in --quiet\n",
        "      google.colab.files.download(str(p/f'{n.stem}.pdf'));s.value=f'✅ Downloaded: {n.stem}.pdf'\n",
        "    except Exception as e:s.value=f'❌ {str(e)}'\n",
        "    finally:b.disabled=False\n",
        "  if not pathlib.Path('/usr/local/bin/quarto').exists():\n",
        "    !wget -q 'https://quarto.org/download/latest/quarto-linux-amd64.deb' && dpkg -i quarto-linux-amd64.deb>/dev/null && quarto install tinytex --update-path --quiet && rm quarto-linux-amd64.deb\n",
        "  b=ipywidgets.widgets.Button(description='⬇️ Download');s=ipywidgets.widgets.Label();b.on_click(lambda b:convert(b));IPython.display.display(ipywidgets.widgets.HBox([b,s]))\n",
        "colab2pdf() # | Colab2PDF v1.6 | https://github.com/drengskapur/colab2pdf | GPL-3.0-or-later |"
      ],
      "metadata": {
        "colab": {
          "base_uri": "https://localhost:8080/",
          "height": 49,
          "referenced_widgets": [
            "96ca15996f9e4693a791538ef9fcbe85",
            "3cd96cc03ae0469cb1a2357f6be5b0e8",
            "ba34f77ee6634f30b7db3bb186caa95f",
            "ec947d1f5045492597f3af019d02a070",
            "58de88f366f64495bb3af299e21d87e1",
            "eb7fa2fe522b49799e4f8d925c4c7a03",
            "d8d8edab6e714395b591922f561210f4",
            "af3f870637a7473ea8307b480e304879"
          ]
        },
        "id": "ESPaQ7kCKfIR",
        "outputId": "a6046048-1b65-4169-f0a7-79ce8b1ee1a6"
      },
      "execution_count": null,
      "outputs": [
        {
          "output_type": "display_data",
          "data": {
            "text/plain": [
              "HBox(children=(Button(description='⬇️ Download', style=ButtonStyle()), Label(value='')))"
            ],
            "application/vnd.jupyter.widget-view+json": {
              "version_major": 2,
              "version_minor": 0,
              "model_id": "96ca15996f9e4693a791538ef9fcbe85"
            }
          },
          "metadata": {}
        },
        {
          "output_type": "display_data",
          "data": {
            "text/plain": [
              "<IPython.core.display.Javascript object>"
            ],
            "application/javascript": [
              "\n",
              "    async function download(id, filename, size) {\n",
              "      if (!google.colab.kernel.accessAllowed) {\n",
              "        return;\n",
              "      }\n",
              "      const div = document.createElement('div');\n",
              "      const label = document.createElement('label');\n",
              "      label.textContent = `Downloading \"${filename}\": `;\n",
              "      div.appendChild(label);\n",
              "      const progress = document.createElement('progress');\n",
              "      progress.max = size;\n",
              "      div.appendChild(progress);\n",
              "      document.body.appendChild(div);\n",
              "\n",
              "      const buffers = [];\n",
              "      let downloaded = 0;\n",
              "\n",
              "      const channel = await google.colab.kernel.comms.open(id);\n",
              "      // Send a message to notify the kernel that we're ready.\n",
              "      channel.send({})\n",
              "\n",
              "      for await (const message of channel.messages) {\n",
              "        // Send a message to notify the kernel that we're ready.\n",
              "        channel.send({})\n",
              "        if (message.buffers) {\n",
              "          for (const buffer of message.buffers) {\n",
              "            buffers.push(buffer);\n",
              "            downloaded += buffer.byteLength;\n",
              "            progress.value = downloaded;\n",
              "          }\n",
              "        }\n",
              "      }\n",
              "      const blob = new Blob(buffers, {type: 'application/binary'});\n",
              "      const a = document.createElement('a');\n",
              "      a.href = window.URL.createObjectURL(blob);\n",
              "      a.download = filename;\n",
              "      div.appendChild(a);\n",
              "      a.click();\n",
              "      div.remove();\n",
              "    }\n",
              "  "
            ]
          },
          "metadata": {}
        },
        {
          "output_type": "display_data",
          "data": {
            "text/plain": [
              "<IPython.core.display.Javascript object>"
            ],
            "application/javascript": [
              "download(\"download_8bd5b242-6e0a-4b63-96ef-248fcd3af8ca\", \"Zeid_Aldaas_Homework_9.pdf\", 17576)"
            ]
          },
          "metadata": {}
        }
      ]
    }
  ]
}