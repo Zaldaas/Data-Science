{
  "nbformat": 4,
  "nbformat_minor": 0,
  "metadata": {
    "colab": {
      "provenance": []
    },
    "kernelspec": {
      "name": "python3",
      "display_name": "Python 3"
    },
    "language_info": {
      "name": "python"
    },
    "widgets": {
      "application/vnd.jupyter.widget-state+json": {
        "3d088fe02ebb47a6ac34aef9c208eb9a": {
          "model_module": "@jupyter-widgets/controls",
          "model_name": "HBoxModel",
          "model_module_version": "1.5.0",
          "state": {
            "_dom_classes": [],
            "_model_module": "@jupyter-widgets/controls",
            "_model_module_version": "1.5.0",
            "_model_name": "HBoxModel",
            "_view_count": null,
            "_view_module": "@jupyter-widgets/controls",
            "_view_module_version": "1.5.0",
            "_view_name": "HBoxView",
            "box_style": "",
            "children": [
              "IPY_MODEL_3719f7f5a0db404397518fa3b196c0e9",
              "IPY_MODEL_76bf3d607db74b6486aa188ca4708ec3"
            ],
            "layout": "IPY_MODEL_b709c17846d84c3d8f1e653b625eb99d"
          }
        },
        "3719f7f5a0db404397518fa3b196c0e9": {
          "model_module": "@jupyter-widgets/controls",
          "model_name": "ButtonModel",
          "model_module_version": "1.5.0",
          "state": {
            "_dom_classes": [],
            "_model_module": "@jupyter-widgets/controls",
            "_model_module_version": "1.5.0",
            "_model_name": "ButtonModel",
            "_view_count": null,
            "_view_module": "@jupyter-widgets/controls",
            "_view_module_version": "1.5.0",
            "_view_name": "ButtonView",
            "button_style": "",
            "description": "⬇️ Download",
            "disabled": false,
            "icon": "",
            "layout": "IPY_MODEL_7116c28b5b374b9f81ad62f119047e9c",
            "style": "IPY_MODEL_f784ddb90498430886d64d09875f7ad8",
            "tooltip": ""
          }
        },
        "76bf3d607db74b6486aa188ca4708ec3": {
          "model_module": "@jupyter-widgets/controls",
          "model_name": "LabelModel",
          "model_module_version": "1.5.0",
          "state": {
            "_dom_classes": [],
            "_model_module": "@jupyter-widgets/controls",
            "_model_module_version": "1.5.0",
            "_model_name": "LabelModel",
            "_view_count": null,
            "_view_module": "@jupyter-widgets/controls",
            "_view_module_version": "1.5.0",
            "_view_name": "LabelView",
            "description": "",
            "description_tooltip": null,
            "layout": "IPY_MODEL_9391f41be5344e93a54d2b9d150dca59",
            "placeholder": "​",
            "style": "IPY_MODEL_d0622c42c086452aad74b8443213c332",
            "value": "✅ Downloaded: Zeid_Aldaas_Homework_6.pdf"
          }
        },
        "b709c17846d84c3d8f1e653b625eb99d": {
          "model_module": "@jupyter-widgets/base",
          "model_name": "LayoutModel",
          "model_module_version": "1.2.0",
          "state": {
            "_model_module": "@jupyter-widgets/base",
            "_model_module_version": "1.2.0",
            "_model_name": "LayoutModel",
            "_view_count": null,
            "_view_module": "@jupyter-widgets/base",
            "_view_module_version": "1.2.0",
            "_view_name": "LayoutView",
            "align_content": null,
            "align_items": null,
            "align_self": null,
            "border": null,
            "bottom": null,
            "display": null,
            "flex": null,
            "flex_flow": null,
            "grid_area": null,
            "grid_auto_columns": null,
            "grid_auto_flow": null,
            "grid_auto_rows": null,
            "grid_column": null,
            "grid_gap": null,
            "grid_row": null,
            "grid_template_areas": null,
            "grid_template_columns": null,
            "grid_template_rows": null,
            "height": null,
            "justify_content": null,
            "justify_items": null,
            "left": null,
            "margin": null,
            "max_height": null,
            "max_width": null,
            "min_height": null,
            "min_width": null,
            "object_fit": null,
            "object_position": null,
            "order": null,
            "overflow": null,
            "overflow_x": null,
            "overflow_y": null,
            "padding": null,
            "right": null,
            "top": null,
            "visibility": null,
            "width": null
          }
        },
        "7116c28b5b374b9f81ad62f119047e9c": {
          "model_module": "@jupyter-widgets/base",
          "model_name": "LayoutModel",
          "model_module_version": "1.2.0",
          "state": {
            "_model_module": "@jupyter-widgets/base",
            "_model_module_version": "1.2.0",
            "_model_name": "LayoutModel",
            "_view_count": null,
            "_view_module": "@jupyter-widgets/base",
            "_view_module_version": "1.2.0",
            "_view_name": "LayoutView",
            "align_content": null,
            "align_items": null,
            "align_self": null,
            "border": null,
            "bottom": null,
            "display": null,
            "flex": null,
            "flex_flow": null,
            "grid_area": null,
            "grid_auto_columns": null,
            "grid_auto_flow": null,
            "grid_auto_rows": null,
            "grid_column": null,
            "grid_gap": null,
            "grid_row": null,
            "grid_template_areas": null,
            "grid_template_columns": null,
            "grid_template_rows": null,
            "height": null,
            "justify_content": null,
            "justify_items": null,
            "left": null,
            "margin": null,
            "max_height": null,
            "max_width": null,
            "min_height": null,
            "min_width": null,
            "object_fit": null,
            "object_position": null,
            "order": null,
            "overflow": null,
            "overflow_x": null,
            "overflow_y": null,
            "padding": null,
            "right": null,
            "top": null,
            "visibility": null,
            "width": null
          }
        },
        "f784ddb90498430886d64d09875f7ad8": {
          "model_module": "@jupyter-widgets/controls",
          "model_name": "ButtonStyleModel",
          "model_module_version": "1.5.0",
          "state": {
            "_model_module": "@jupyter-widgets/controls",
            "_model_module_version": "1.5.0",
            "_model_name": "ButtonStyleModel",
            "_view_count": null,
            "_view_module": "@jupyter-widgets/base",
            "_view_module_version": "1.2.0",
            "_view_name": "StyleView",
            "button_color": null,
            "font_weight": ""
          }
        },
        "9391f41be5344e93a54d2b9d150dca59": {
          "model_module": "@jupyter-widgets/base",
          "model_name": "LayoutModel",
          "model_module_version": "1.2.0",
          "state": {
            "_model_module": "@jupyter-widgets/base",
            "_model_module_version": "1.2.0",
            "_model_name": "LayoutModel",
            "_view_count": null,
            "_view_module": "@jupyter-widgets/base",
            "_view_module_version": "1.2.0",
            "_view_name": "LayoutView",
            "align_content": null,
            "align_items": null,
            "align_self": null,
            "border": null,
            "bottom": null,
            "display": null,
            "flex": null,
            "flex_flow": null,
            "grid_area": null,
            "grid_auto_columns": null,
            "grid_auto_flow": null,
            "grid_auto_rows": null,
            "grid_column": null,
            "grid_gap": null,
            "grid_row": null,
            "grid_template_areas": null,
            "grid_template_columns": null,
            "grid_template_rows": null,
            "height": null,
            "justify_content": null,
            "justify_items": null,
            "left": null,
            "margin": null,
            "max_height": null,
            "max_width": null,
            "min_height": null,
            "min_width": null,
            "object_fit": null,
            "object_position": null,
            "order": null,
            "overflow": null,
            "overflow_x": null,
            "overflow_y": null,
            "padding": null,
            "right": null,
            "top": null,
            "visibility": null,
            "width": null
          }
        },
        "d0622c42c086452aad74b8443213c332": {
          "model_module": "@jupyter-widgets/controls",
          "model_name": "DescriptionStyleModel",
          "model_module_version": "1.5.0",
          "state": {
            "_model_module": "@jupyter-widgets/controls",
            "_model_module_version": "1.5.0",
            "_model_name": "DescriptionStyleModel",
            "_view_count": null,
            "_view_module": "@jupyter-widgets/base",
            "_view_module_version": "1.2.0",
            "_view_name": "StyleView",
            "description_width": ""
          }
        }
      }
    }
  },
  "cells": [
    {
      "cell_type": "code",
      "source": [
        "import pandas as pd"
      ],
      "metadata": {
        "id": "7sS4pv5DTUOt"
      },
      "execution_count": null,
      "outputs": []
    },
    {
      "cell_type": "code",
      "execution_count": null,
      "metadata": {
        "id": "3LvKX6pVSENe"
      },
      "outputs": [],
      "source": [
        "# 1. Consider the toy dataset below which shows if 4 subjects have diabetes or not, along with two diagnostic measurements. (Note: do NOT write any code for this problem. The answers are to be computed by hand.)"
      ]
    },
    {
      "cell_type": "code",
      "source": [
        "# a. The \"Class\" variable is HasDiabetes, which indicates whether a subject has diabetes (Yes or No).\n",
        "# b. Normalize the Preg and Glucose values by scaling the minimum-maximum range of each column to 0-1. Fill in the empty columns in the table.\n",
        "'''\n",
        "1. Preg.Norm\n",
        "  Row 1: (2 - 1) / (3 - 1) = 0.5\n",
        "  Row 2: (3 - 1) / (3 - 1) = 1.0\n",
        "  Row 3: (2 - 1) / (3 - 1) = 0.5\n",
        "  Row 4: (1 - 1) / (3 - 1) = 0.0\n",
        "  Row 5: (2 - 1) / (3 - 1) = 0.5\n",
        "\n",
        "2. Glucose.Norm\n",
        "  Row 1: (157 - 77) / (174 - 77) = 0.8247\n",
        "  Row 2: (174 - 77) / (174 - 77) = 1.0\n",
        "  Row 3: (105 - 77) / (174 - 77) = 0.2887\n",
        "  Row 4: (77 - 77) / (174 - 77) = 0.0\n",
        "  Row 5: (94 - 77) / (174 - 77) = 0.1752\n",
        "'''\n",
        "# c. Predict whether a subject with Preg=2, Glucose=94 will have diabetes using the 1-NN algorithm and\n",
        "# i. Using Euclidean distance on the original variables\n",
        "'''\n",
        "distance = √((Preg - 2)^2 + (Glucose - 94)^2)\n",
        "\n",
        "Row 1: √((2 - 2)^2 + (157 - 94)^2) = √(0 + 63^2) = 63.0\n",
        "Row 2: √((3 - 2)^2 + (174 - 94)^2) = √(1 + 80^2) ≈ 80.0063\n",
        "Row 3: √((2 - 2)^2 + (105 - 94)^2) = √(0 + 11^2) = 11.0\n",
        "Row 4: √((1 - 2)^2 + (77 - 94)^2) = √(1 + 17^2) ≈ 17.0294\n",
        "\n",
        "Nearest Neighbor: Row 3\n",
        "Prediction: Yes (HasDiabetes = Yes for Row 3)\n",
        "'''\n",
        "# ii. Using Euclidean distance on the normalized variables\n",
        "'''\n",
        "Target (Preg.Norm = 0.5, Glucose.Norm = 0.1752)\n",
        "\n",
        "Row 1: √((0.5 - 0.5)^2 + (0.8247 - 0.1752)^2) ≈ 0.6495\n",
        "Row 2: √((1.0 - 0.5)^2 + (1.0 - 0.1752)^2) ≈ 0.9351\n",
        "Row 3: √((0.5 - 0.5)^2 + (0.2887 - 0.1752)^2) ≈ 0.1135\n",
        "Row 4: √((0.0 - 0.5)^2 + (0.0 - 0.1752)^2) ≈ 0.5293\n",
        "\n",
        "Nearest Neighbor: Row 3\n",
        "Prediction: Yes (HasDiabetes = Yes for Row 3)\n",
        "'''"
      ],
      "metadata": {
        "colab": {
          "base_uri": "https://localhost:8080/",
          "height": 53
        },
        "id": "2rUVCW9ySoL3",
        "outputId": "7f64640c-5022-4208-d125-68b19ebc95a1"
      },
      "execution_count": null,
      "outputs": [
        {
          "output_type": "execute_result",
          "data": {
            "text/plain": [
              "'\\nTarget (Preg.Norm = 0.5, Glucose.Norm = 0.1752)\\n\\nRow 1: √((0.5 - 0.5)^2 + (0.8247 - 0.1752)^2) ≈ 0.6495\\nRow 2: √((1.0 - 0.5)^2 + (1.0 - 0.1752)^2) ≈ 0.9351\\nRow 3: √((0.5 - 0.5)^2 + (0.2887 - 0.1752)^2) ≈ 0.1135\\nRow 4: √((0.0 - 0.5)^2 + (0.0 - 0.1752)^2) ≈ 0.5293\\n\\nNearest Neighbor: Row 3\\nPrediction: Yes (HasDiabetes = Yes for Row 3)\\n'"
            ],
            "application/vnd.google.colaboratory.intrinsic+json": {
              "type": "string"
            }
          },
          "metadata": {},
          "execution_count": 26
        }
      ]
    },
    {
      "cell_type": "code",
      "source": [
        "# 2. The pima-indians-diabetes-resampled.csv file on Canvas contains records indicating whether the subjects have diabetes or not, along with certain diagnostic measurements. All subjects are of Pima Indian heritage and this dataset is called the Pima Indian Diabetes Database. The goal is to see if it is possible to predict if a subject has diabetes given some of the diagnostic measurements. (Note: this problem is an extension of the classwork assignment; Python code from the class is also posted on Canvas.)\n",
        "# a. Read the data file\n",
        "data = pd.read_csv('pima-indians-diabetes-resampled.csv')\n",
        "# b. What does “Preg” represent in the dataset? (2-3 sentences. Search for the Pima Indian Diabetes Database online. Its background and the ethics issues it raises are also important.\n",
        "# ANSWER: \"Preg\" represents the number of times a subject has been pregnant. In the context of the Pima Indian Diabetes Database, it serves as one of the diagnostic features used to predict diabetes. This dataset, collected from a specific population, raises ethical questions about the representation and health privacy of Indigenous communities.\n",
        "# c. 0 values in the Glucose column indicate missing values. Remove rows which contain missing values in the Glucose column. You should have 763 rows. [code]\n",
        "data['Glucose'].replace(0, pd.NA, inplace=True)\n",
        "data = data.dropna(subset=['Glucose'])\n",
        "print(data)"
      ],
      "metadata": {
        "colab": {
          "base_uri": "https://localhost:8080/"
        },
        "id": "59cWYeKOVZvK",
        "outputId": "bd3d9fb8-237e-48f5-877a-3ecf955b518e"
      },
      "execution_count": null,
      "outputs": [
        {
          "output_type": "stream",
          "name": "stdout",
          "text": [
            "     Preg Glucose  BP  Skin  Insulin   BMI  Pedigree  Age  HasDiabetes\n",
            "0       2     157  74    35      440  39.4     0.134   30            0\n",
            "1       7     159  64     0        0  27.4     0.294   40            0\n",
            "2       7      83  78    26       71  29.3     0.767   36            0\n",
            "3       0     124  56    13      105  21.8     0.452   21            0\n",
            "4       5      99  54    28       83  34.0     0.499   30            0\n",
            "..    ...     ...  ..   ...      ...   ...       ...  ...          ...\n",
            "763     7      81  78    40       48  46.7     0.261   42            0\n",
            "764     6     125  78    31        0  27.6     0.565   49            1\n",
            "765     3     130  78    23       79  28.4     0.323   34            1\n",
            "766     1     116  78    29      180  36.1     0.496   25            0\n",
            "767     3     173  78    39      185  33.8     0.970   31            1\n",
            "\n",
            "[763 rows x 9 columns]\n"
          ]
        },
        {
          "output_type": "stream",
          "name": "stderr",
          "text": [
            "<ipython-input-27-da7ec9879510>:7: FutureWarning: A value is trying to be set on a copy of a DataFrame or Series through chained assignment using an inplace method.\n",
            "The behavior will change in pandas 3.0. This inplace method will never work because the intermediate object on which we are setting values always behaves as a copy.\n",
            "\n",
            "For example, when doing 'df[col].method(value, inplace=True)', try using 'df.method({col: value}, inplace=True)' or df[col] = df[col].method(value) instead, to perform the operation inplace on the original object.\n",
            "\n",
            "\n",
            "  data['Glucose'].replace(0, pd.NA, inplace=True)\n"
          ]
        }
      ]
    },
    {
      "cell_type": "code",
      "source": [
        "# d. Create three new columns/variables which are the normalized versions of Preg, Pedigree, and Glucose columns, scaling the minimum-maximum range of each column to 0-1 (you can use the code developed in class). [code]\n",
        "data['Preg.Norm'] = (data['Preg'] - data['Preg'].min()) / (data['Preg'].max() - data['Preg'].min())\n",
        "data['Pedigree.Norm'] = (data['Pedigree'] - data['Pedigree'].min()) / (data['Pedigree'].max() - data['Pedigree'].min())\n",
        "data['Glucose.Norm'] = (data['Glucose'] - data['Glucose'].min()) / (data['Glucose'].max() - data['Glucose'].min())\n",
        "print(data)"
      ],
      "metadata": {
        "colab": {
          "base_uri": "https://localhost:8080/"
        },
        "id": "qyRG7Jk4Wmx5",
        "outputId": "f7a0f33d-4375-47a5-ee73-cb2cdc3bd576"
      },
      "execution_count": null,
      "outputs": [
        {
          "output_type": "stream",
          "name": "stdout",
          "text": [
            "     Preg Glucose  BP  Skin  Insulin   BMI  Pedigree  Age  HasDiabetes  \\\n",
            "0       2     157  74    35      440  39.4     0.134   30            0   \n",
            "1       7     159  64     0        0  27.4     0.294   40            0   \n",
            "2       7      83  78    26       71  29.3     0.767   36            0   \n",
            "3       0     124  56    13      105  21.8     0.452   21            0   \n",
            "4       5      99  54    28       83  34.0     0.499   30            0   \n",
            "..    ...     ...  ..   ...      ...   ...       ...  ...          ...   \n",
            "763     7      81  78    40       48  46.7     0.261   42            0   \n",
            "764     6     125  78    31        0  27.6     0.565   49            1   \n",
            "765     3     130  78    23       79  28.4     0.323   34            1   \n",
            "766     1     116  78    29      180  36.1     0.496   25            0   \n",
            "767     3     173  78    39      185  33.8     0.970   31            1   \n",
            "\n",
            "     Preg.Norm  Pedigree.Norm Glucose.Norm  \n",
            "0     0.117647       0.023911     0.729032  \n",
            "1     0.411765       0.092229     0.741935  \n",
            "2     0.411765       0.294193     0.251613  \n",
            "3     0.000000       0.159693     0.516129  \n",
            "4     0.294118       0.179761     0.354839  \n",
            "..         ...            ...          ...  \n",
            "763   0.411765       0.078138      0.23871  \n",
            "764   0.352941       0.207942     0.522581  \n",
            "765   0.176471       0.104611     0.554839  \n",
            "766   0.058824       0.178480     0.464516  \n",
            "767   0.176471       0.380871     0.832258  \n",
            "\n",
            "[763 rows x 12 columns]\n"
          ]
        }
      ]
    },
    {
      "cell_type": "code",
      "source": [
        "# e. Split the dataset into train and test datasets with the first 500 rows for training, and the remaining rows for test. Do NOT randomly sample the data (though resampling is usually done, this hw problem does not use this step for ease of grading).\n",
        "train_data = data.iloc[:500]\n",
        "test_data = data.iloc[500:]\n",
        "print(train_data)\n",
        "print(test_data)"
      ],
      "metadata": {
        "colab": {
          "base_uri": "https://localhost:8080/"
        },
        "id": "bY1bUhn1W2CC",
        "outputId": "2c378221-11f3-46df-9cc6-5a79b1889c17"
      },
      "execution_count": null,
      "outputs": [
        {
          "output_type": "stream",
          "name": "stdout",
          "text": [
            "     Preg Glucose  BP  Skin  Insulin   BMI  Pedigree  Age  HasDiabetes  \\\n",
            "0       2     157  74    35      440  39.4     0.134   30            0   \n",
            "1       7     159  64     0        0  27.4     0.294   40            0   \n",
            "2       7      83  78    26       71  29.3     0.767   36            0   \n",
            "3       0     124  56    13      105  21.8     0.452   21            0   \n",
            "4       5      99  54    28       83  34.0     0.499   30            0   \n",
            "..    ...     ...  ..   ...      ...   ...       ...  ...          ...   \n",
            "500     8     120  86     0        0  28.4     0.259   22            1   \n",
            "501     2      99   0     0        0  22.2     0.108   23            0   \n",
            "502     8     196  76    29      280  37.5     0.605   57            1   \n",
            "503     2      83  65    28       66  36.8     0.629   24            0   \n",
            "504     1      88  78    29       76  32.0     0.365   29            0   \n",
            "\n",
            "     Preg.Norm  Pedigree.Norm Glucose.Norm  \n",
            "0     0.117647       0.023911     0.729032  \n",
            "1     0.411765       0.092229     0.741935  \n",
            "2     0.411765       0.294193     0.251613  \n",
            "3     0.000000       0.159693     0.516129  \n",
            "4     0.294118       0.179761     0.354839  \n",
            "..         ...            ...          ...  \n",
            "500   0.470588       0.077284     0.490323  \n",
            "501   0.117647       0.012810     0.354839  \n",
            "502   0.470588       0.225021     0.980645  \n",
            "503   0.117647       0.235269     0.251613  \n",
            "504   0.058824       0.122545     0.283871  \n",
            "\n",
            "[500 rows x 12 columns]\n",
            "     Preg Glucose  BP  Skin  Insulin   BMI  Pedigree  Age  HasDiabetes  \\\n",
            "505     0     100  88    60      110  46.8     0.962   31            0   \n",
            "506     2      81  72    15       76  30.1     0.547   25            0   \n",
            "507     6     102  90    39        0  35.7     0.674   28            0   \n",
            "508     9     156  86     0        0  24.8     0.230   53            1   \n",
            "509     6     129  90     7      326  19.6     0.582   60            0   \n",
            "..    ...     ...  ..   ...      ...   ...       ...  ...          ...   \n",
            "763     7      81  78    40       48  46.7     0.261   42            0   \n",
            "764     6     125  78    31        0  27.6     0.565   49            1   \n",
            "765     3     130  78    23       79  28.4     0.323   34            1   \n",
            "766     1     116  78    29      180  36.1     0.496   25            0   \n",
            "767     3     173  78    39      185  33.8     0.970   31            1   \n",
            "\n",
            "     Preg.Norm  Pedigree.Norm Glucose.Norm  \n",
            "505   0.000000       0.377455      0.36129  \n",
            "506   0.117647       0.200256      0.23871  \n",
            "507   0.352941       0.254483     0.374194  \n",
            "508   0.529412       0.064902     0.722581  \n",
            "509   0.352941       0.215201     0.548387  \n",
            "..         ...            ...          ...  \n",
            "763   0.411765       0.078138      0.23871  \n",
            "764   0.352941       0.207942     0.522581  \n",
            "765   0.176471       0.104611     0.554839  \n",
            "766   0.058824       0.178480     0.464516  \n",
            "767   0.176471       0.380871     0.832258  \n",
            "\n",
            "[263 rows x 12 columns]\n"
          ]
        }
      ]
    },
    {
      "cell_type": "code",
      "source": [
        "# f. Train and test a k-nearest neighbor classifier with the dataset. Consider only the normalized Preg and Pedigree columns. Set k=1. What is the error rate (number of misclassifications)? [code, error rate]\n",
        "from sklearn.neighbors import KNeighborsClassifier\n",
        "from sklearn.metrics import accuracy_score\n",
        "\n",
        "\n",
        "knn_1 = KNeighborsClassifier(n_neighbors=1)\n",
        "knn_1.fit(train_data[['Preg.Norm', 'Pedigree.Norm']], train_data['HasDiabetes'])\n",
        "\n",
        "\n",
        "predictions_1 = knn_1.predict(test_data[['Preg.Norm', 'Pedigree.Norm']])\n",
        "error_rate_1 = 1 - accuracy_score(test_data['HasDiabetes'], predictions_1)\n",
        "\n",
        "print(error_rate_1)"
      ],
      "metadata": {
        "colab": {
          "base_uri": "https://localhost:8080/"
        },
        "id": "cynPhlEzXJgI",
        "outputId": "b9687ac5-842e-4c76-8280-512287301c9d"
      },
      "execution_count": null,
      "outputs": [
        {
          "output_type": "stream",
          "name": "stdout",
          "text": [
            "0.40684410646387836\n"
          ]
        }
      ]
    },
    {
      "cell_type": "code",
      "source": [
        "# g. Repeat part (f) but consider the normalized Preg, Pedigree, and Glucose columns. Set k=1. What is the error rate? Will the error rate always decrease with a larger number of features? Why or why not: answer in 2-3 sentences? [code, error rate, answer]\n",
        "\n",
        "knn_1_with_glucose = KNeighborsClassifier(n_neighbors=1)\n",
        "knn_1_with_glucose.fit(train_data[['Preg.Norm', 'Pedigree.Norm', 'Glucose.Norm']], train_data['HasDiabetes'])\n",
        "\n",
        "\n",
        "predictions_1_with_glucose = knn_1_with_glucose.predict(test_data[['Preg.Norm', 'Pedigree.Norm', 'Glucose.Norm']])\n",
        "error_rate_1_with_glucose = 1 - accuracy_score(test_data['HasDiabetes'], predictions_1_with_glucose)\n",
        "\n",
        "print(error_rate_1_with_glucose)\n",
        "\n",
        "# ANSWER: No, adding more features does not always reduce the error rate. Extra features can introduce noise and increase the model's complexity, potentially leading to overfitting. It's essential to select features that are truly informative."
      ],
      "metadata": {
        "colab": {
          "base_uri": "https://localhost:8080/"
        },
        "id": "VRkx87bWXXx1",
        "outputId": "247cf035-cb3c-42c2-a392-efc5a3927384"
      },
      "execution_count": null,
      "outputs": [
        {
          "output_type": "stream",
          "name": "stdout",
          "text": [
            "0.31939163498098855\n"
          ]
        }
      ]
    },
    {
      "cell_type": "code",
      "source": [
        "# h. Repeat part (g) but set k=5. What is the error rate? [code, error rate]\n",
        "\n",
        "knn_5 = KNeighborsClassifier(n_neighbors=5)\n",
        "knn_5.fit(train_data[['Preg.Norm', 'Pedigree.Norm', 'Glucose.Norm']], train_data['HasDiabetes'])\n",
        "\n",
        "\n",
        "predictions_5 = knn_5.predict(test_data[['Preg.Norm', 'Pedigree.Norm', 'Glucose.Norm']])\n",
        "error_rate_5 = 1 - accuracy_score(test_data['HasDiabetes'], predictions_5)\n",
        "\n",
        "print(error_rate_5)"
      ],
      "metadata": {
        "colab": {
          "base_uri": "https://localhost:8080/"
        },
        "id": "1nPlI_NsXp9-",
        "outputId": "c1a2e717-372c-4b39-ed21-65aa4b7332bb"
      },
      "execution_count": null,
      "outputs": [
        {
          "output_type": "stream",
          "name": "stdout",
          "text": [
            "0.2395437262357415\n"
          ]
        }
      ]
    },
    {
      "cell_type": "code",
      "source": [
        "# i. Repeat part (h) but set k=11. What is the error rate?  [code, error rate]\n",
        "\n",
        "knn_11 = KNeighborsClassifier(n_neighbors=11)\n",
        "knn_11.fit(train_data[['Preg.Norm', 'Pedigree.Norm', 'Glucose.Norm']], train_data['HasDiabetes'])\n",
        "\n",
        "\n",
        "predictions_11 = knn_11.predict(test_data[['Preg.Norm', 'Pedigree.Norm', 'Glucose.Norm']])\n",
        "error_rate_11 = 1 - accuracy_score(test_data['HasDiabetes'], predictions_11)\n",
        "\n",
        "print(error_rate_11)"
      ],
      "metadata": {
        "colab": {
          "base_uri": "https://localhost:8080/"
        },
        "id": "X8IHCsUFXwvD",
        "outputId": "170d3353-574b-4835-f655-91b1fdd48a7f"
      },
      "execution_count": null,
      "outputs": [
        {
          "output_type": "stream",
          "name": "stdout",
          "text": [
            "0.22053231939163498\n"
          ]
        }
      ]
    },
    {
      "cell_type": "code",
      "source": [
        "# j. Considering your observations from (g)-(i), which is the best value for k? [answer]\n",
        "# ANSWER: The best value for k is the one with the lowest error rate, observed from the results of parts (g)-(i)."
      ],
      "metadata": {
        "id": "MKehX1WzX57V"
      },
      "execution_count": null,
      "outputs": []
    },
    {
      "cell_type": "code",
      "source": [
        "def colab2pdf():\n",
        "  # @title Download Notebook in PDF Format{display-mode:'form'}\n",
        "  !apt-get install -yqq --no-install-recommends librsvg2-bin>/dev/null;\n",
        "  import contextlib,datetime,google,io,IPython,ipywidgets,json,locale,nbformat,os,pathlib,requests,urllib,warnings,werkzeug,yaml,re;locale.setlocale(locale.LC_ALL,'en_US.UTF-8');warnings.filterwarnings('ignore',category=nbformat.validator.MissingIDFieldWarning);\n",
        "  %matplotlib inline\n",
        "  def convert(b):\n",
        "    try:\n",
        "      s.value='🔄 Converting';b.disabled=True\n",
        "      n=pathlib.Path(werkzeug.utils.secure_filename(urllib.parse.unquote(requests.get(f'http://{os.environ[\"COLAB_JUPYTER_IP\"]}:{os.environ[\"KMP_TARGET_PORT\"]}/api/sessions').json()[0]['name'])))\n",
        "      p=pathlib.Path('/content/pdfs')/f'{datetime.datetime.utcnow().strftime(\"%Y%m%d_%H%M%S\")}_{n.stem}';p.mkdir(parents=True,exist_ok=True);nb=nbformat.reads(json.dumps(google.colab._message.blocking_request('get_ipynb',timeout_sec=600)['ipynb']),as_version=4)\n",
        "      u=[u for c in nb.cells if c.get('cell_type')=='markdown' for u in re.findall(r'!\\[.*?\\]\\((https?://.*?)\\)',c['source']) if requests.head(u,timeout=5).status_code!=200]\n",
        "      if u:raise Exception(f\"Bad Image URLs: {','.join(u)}\")\n",
        "      nb.cells=[cell for cell in nb.cells if '--Colab2PDF' not in cell.source]\n",
        "      nb=nbformat.v4.new_notebook(cells=nb.cells or [nbformat.v4.new_code_cell('#')]);nbformat.validator.normalize(nb)\n",
        "      nbformat.write(nb,(p/f'{n.stem}.ipynb').open('w',encoding='utf-8'))\n",
        "      with (p/'config.yml').open('w', encoding='utf-8') as f: yaml.dump({'include-in-header':[{'text':r'\\usepackage{fvextra}\\DefineVerbatimEnvironment{Highlighting}{Verbatim}{breaksymbolleft={},showspaces=false,showtabs=false,breaklines,breakanywhere,commandchars=\\\\\\{\\}}'}],'include-before-body':[{'text':r'\\DefineVerbatimEnvironment{verbatim}{Verbatim}{breaksymbolleft={},showspaces=false,showtabs=false,breaklines}'}]},f)\n",
        "      !quarto render {p}/{n.stem}.ipynb --metadata-file={p}/config.yml --to pdf -M latex-auto-install -M margin-top=1in -M margin-bottom=1in -M margin-left=1in -M margin-right=1in --quiet\n",
        "      google.colab.files.download(str(p/f'{n.stem}.pdf'));s.value=f'✅ Downloaded: {n.stem}.pdf'\n",
        "    except Exception as e:s.value=f'❌ {str(e)}'\n",
        "    finally:b.disabled=False\n",
        "  if not pathlib.Path('/usr/local/bin/quarto').exists():\n",
        "    !wget -q 'https://quarto.org/download/latest/quarto-linux-amd64.deb' && dpkg -i quarto-linux-amd64.deb>/dev/null && quarto install tinytex --update-path --quiet && rm quarto-linux-amd64.deb\n",
        "  b=ipywidgets.widgets.Button(description='⬇️ Download');s=ipywidgets.widgets.Label();b.on_click(lambda b:convert(b));IPython.display.display(ipywidgets.widgets.HBox([b,s]))\n",
        "colab2pdf() # | Colab2PDF v1.6 | https://github.com/drengskapur/colab2pdf | GPL-3.0-or-later |"
      ],
      "metadata": {
        "colab": {
          "base_uri": "https://localhost:8080/",
          "height": 49,
          "referenced_widgets": [
            "3d088fe02ebb47a6ac34aef9c208eb9a",
            "3719f7f5a0db404397518fa3b196c0e9",
            "76bf3d607db74b6486aa188ca4708ec3",
            "b709c17846d84c3d8f1e653b625eb99d",
            "7116c28b5b374b9f81ad62f119047e9c",
            "f784ddb90498430886d64d09875f7ad8",
            "9391f41be5344e93a54d2b9d150dca59",
            "d0622c42c086452aad74b8443213c332"
          ]
        },
        "id": "eTSGtJMtX-43",
        "outputId": "724b99c0-d304-40a8-df3d-1bdae8b7e565"
      },
      "execution_count": null,
      "outputs": [
        {
          "output_type": "display_data",
          "data": {
            "text/plain": [
              "HBox(children=(Button(description='⬇️ Download', style=ButtonStyle()), Label(value='')))"
            ],
            "application/vnd.jupyter.widget-view+json": {
              "version_major": 2,
              "version_minor": 0,
              "model_id": "3d088fe02ebb47a6ac34aef9c208eb9a"
            }
          },
          "metadata": {}
        },
        {
          "output_type": "display_data",
          "data": {
            "text/plain": [
              "<IPython.core.display.Javascript object>"
            ],
            "application/javascript": [
              "\n",
              "    async function download(id, filename, size) {\n",
              "      if (!google.colab.kernel.accessAllowed) {\n",
              "        return;\n",
              "      }\n",
              "      const div = document.createElement('div');\n",
              "      const label = document.createElement('label');\n",
              "      label.textContent = `Downloading \"${filename}\": `;\n",
              "      div.appendChild(label);\n",
              "      const progress = document.createElement('progress');\n",
              "      progress.max = size;\n",
              "      div.appendChild(progress);\n",
              "      document.body.appendChild(div);\n",
              "\n",
              "      const buffers = [];\n",
              "      let downloaded = 0;\n",
              "\n",
              "      const channel = await google.colab.kernel.comms.open(id);\n",
              "      // Send a message to notify the kernel that we're ready.\n",
              "      channel.send({})\n",
              "\n",
              "      for await (const message of channel.messages) {\n",
              "        // Send a message to notify the kernel that we're ready.\n",
              "        channel.send({})\n",
              "        if (message.buffers) {\n",
              "          for (const buffer of message.buffers) {\n",
              "            buffers.push(buffer);\n",
              "            downloaded += buffer.byteLength;\n",
              "            progress.value = downloaded;\n",
              "          }\n",
              "        }\n",
              "      }\n",
              "      const blob = new Blob(buffers, {type: 'application/binary'});\n",
              "      const a = document.createElement('a');\n",
              "      a.href = window.URL.createObjectURL(blob);\n",
              "      a.download = filename;\n",
              "      div.appendChild(a);\n",
              "      a.click();\n",
              "      div.remove();\n",
              "    }\n",
              "  "
            ]
          },
          "metadata": {}
        },
        {
          "output_type": "display_data",
          "data": {
            "text/plain": [
              "<IPython.core.display.Javascript object>"
            ],
            "application/javascript": [
              "download(\"download_82534bf4-6673-480a-86d7-2017a497654e\", \"Zeid_Aldaas_Homework_6.pdf\", 24113)"
            ]
          },
          "metadata": {}
        }
      ]
    }
  ]
}